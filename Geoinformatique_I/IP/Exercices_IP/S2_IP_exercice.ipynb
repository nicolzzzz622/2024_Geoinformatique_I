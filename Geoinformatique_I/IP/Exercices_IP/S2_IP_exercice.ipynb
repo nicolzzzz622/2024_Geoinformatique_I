{
  "cells": [
    {
      "cell_type": "markdown",
      "metadata": {
        "id": "view-in-github",
        "colab_type": "text"
      },
      "source": [
        "<a href=\"https://colab.research.google.com/github/nicolzzzz622/2024_Geoinformatique_I/blob/main/Geoinformatique_I/IP/Exercices_IP/S2_IP_exercice.ipynb\" target=\"_parent\"><img src=\"https://colab.research.google.com/assets/colab-badge.svg\" alt=\"Open In Colab\"/></a>"
      ]
    },
    {
      "cell_type": "markdown",
      "metadata": {
        "id": "ZXnjONpwCaJ5"
      },
      "source": [
        "# Exercice 2 - Structure de contrôle"
      ]
    },
    {
      "cell_type": "markdown",
      "metadata": {
        "id": "OyMIBjQrCaJ6"
      },
      "source": [
        "## Conditions if, else, elif"
      ]
    },
    {
      "cell_type": "markdown",
      "metadata": {
        "id": "caKuJ59zjW39"
      },
      "source": [
        "**1. Vérification de la parité**"
      ]
    },
    {
      "cell_type": "code",
      "execution_count": 2,
      "metadata": {
        "id": "wkrwV1yvjW3-",
        "outputId": "1934f232-733e-4cc9-8b08-e0856db4c4cf",
        "colab": {
          "base_uri": "https://localhost:8080/"
        }
      },
      "outputs": [
        {
          "output_type": "stream",
          "name": "stdout",
          "text": [
            "Entrez un nombre entier\n",
            "45\n",
            "Impaire\n"
          ]
        }
      ],
      "source": [
        "# Ecrivez votre code icici\n",
        "print(\"Entrez un nombre entier\")\n",
        "nombre = int(input()) #Entrez un nombre entier\n",
        "\n",
        "if nombre % 2 == 0 :\n",
        "    print(\"Pair\")\n",
        "else:\n",
        "    print(\"Impaire\")"
      ]
    },
    {
      "cell_type": "markdown",
      "metadata": {
        "id": "b1goU-5bjW3_"
      },
      "source": [
        "**2. Comparaison de deux nombres**"
      ]
    },
    {
      "cell_type": "code",
      "execution_count": 3,
      "metadata": {
        "id": "SkjaBcb-jW3_",
        "outputId": "8d952aa6-83fa-4951-9ba0-44d6f8d7ed09",
        "colab": {
          "base_uri": "https://localhost:8080/"
        }
      },
      "outputs": [
        {
          "output_type": "stream",
          "name": "stdout",
          "text": [
            "Entrez un chiffre à virgule\n",
            "2.4\n",
            "Entrez un autre chiffre a virgule\n",
            "6.7\n",
            "Le deuxième nombre est plus grand.\n"
          ]
        }
      ],
      "source": [
        "print(\"Entrez un chiffre à virgule\")\n",
        "nombre1 = float(input()) #Entrez un chiffre à virgule\n",
        "print(\"Entrez un autre chiffre a virgule\")\n",
        "nombre2 = float(input()) #Entrez un deuxième chiffre à virgule\n",
        "\n",
        "if nombre1 > nombre2:\n",
        "    print(\"Le premier nombre est plus grand.\")\n",
        "elif nombre2 > nombre1:\n",
        "    print(\"Le deuxième nombre est plus grand.\")\n",
        "else:\n",
        "    print(\"Les deux nombres sont égaux\")"
      ]
    },
    {
      "cell_type": "markdown",
      "metadata": {
        "id": "gkNLNNSNjW3_"
      },
      "source": [
        "**3. Catégorisation d'âges**"
      ]
    },
    {
      "cell_type": "code",
      "execution_count": 4,
      "metadata": {
        "id": "h1AnFjiKjW4A",
        "outputId": "0fda2547-06c5-43d5-d143-a18f51edc44a",
        "colab": {
          "base_uri": "https://localhost:8080/"
        }
      },
      "outputs": [
        {
          "output_type": "stream",
          "name": "stdout",
          "text": [
            "Entrez votre âge\n",
            "19\n",
            "Adulte\n"
          ]
        }
      ],
      "source": [
        "print(\"Entrez votre âge\")\n",
        "age = int(input()) # Entrez un nombre entier\n",
        "if age < 12:\n",
        "    print(\"Enfant\")\n",
        "elif 12 <= age < 18:\n",
        "    print(\"Adolescent\")\n",
        "elif 18 <= age < 65:\n",
        "    print(\"Adulte\")\n",
        "else:\n",
        "    print(\"Senior\")\n"
      ]
    },
    {
      "cell_type": "markdown",
      "metadata": {
        "id": "agjI6dl_CaJ7"
      },
      "source": [
        "## Boucle for et while"
      ]
    },
    {
      "cell_type": "markdown",
      "metadata": {
        "id": "jbGswyVvjW4A"
      },
      "source": [
        "**1. Ecrire une boucle `while` pour afficher les valeurs des classements d'une liste de lecture d'albums stockée dans la liste <code>PlayListRatings</code>. Si le score est inférieur à 6, on sort de la boucle. La liste <code>PlayListRatings</code> est donnée par : <code>PlayListRatings = [10, 9.5, 10, 8, 7.5, 5, 10, 10]</code>**"
      ]
    },
    {
      "cell_type": "code",
      "execution_count": 8,
      "metadata": {
        "id": "ploHyFu2jW4A",
        "outputId": "1513e5c3-9169-41b4-998f-0212a75daf1f",
        "colab": {
          "base_uri": "https://localhost:8080/"
        }
      },
      "outputs": [
        {
          "output_type": "stream",
          "name": "stdout",
          "text": [
            "10\n",
            "9.5\n",
            "10\n",
            "8\n",
            "7.5\n"
          ]
        }
      ],
      "source": [
        "# Ecrivez votre code ici\n",
        "PlayListRating = [10, 9.5, 10, 8, 7.5, 5, 10, 10]\n",
        "\n",
        "# Astuce : Utilisez l'indexation de la liste comme critère (longueur de votre liste)\n",
        "indx = 0\n",
        "while indx < len(PlayListRating):\n",
        "  if PlayListRating[indx]<6:\n",
        "   break\n",
        "  else:\n",
        "    print(PlayListRating[indx])\n",
        "  indx +=1"
      ]
    },
    {
      "cell_type": "markdown",
      "metadata": {
        "id": "WHXaD4_3jW4A"
      },
      "source": [
        "**2. Répétez ce que vous venez de faire, cette fois en utilisant une boucle `for`**."
      ]
    },
    {
      "cell_type": "code",
      "execution_count": 9,
      "metadata": {
        "id": "CIgtC_4zjW4A",
        "outputId": "f47dbb21-cfd6-4bd3-bab0-7f97d319715c",
        "colab": {
          "base_uri": "https://localhost:8080/"
        }
      },
      "outputs": [
        {
          "output_type": "stream",
          "name": "stdout",
          "text": [
            "10\n",
            "9.5\n",
            "10\n",
            "8\n",
            "7.5\n"
          ]
        }
      ],
      "source": [
        "for indx in range(len(PlayListRating)):\n",
        "  if PlayListRating[indx]<6:\n",
        "    break\n",
        "  else:\n",
        "    print(PlayListRating[indx])"
      ]
    },
    {
      "cell_type": "markdown",
      "metadata": {
        "id": "VZQhdaf5jW4B"
      },
      "source": [
        "**3. Ecrivez une boucle `for` qui imprime (affiche) la liste suivante : <code>carres=['rouge', 'jaune', 'vert', 'violet', 'bleu']</code>**"
      ]
    },
    {
      "cell_type": "code",
      "execution_count": 13,
      "metadata": {
        "id": "kh8TmInPjW4B",
        "outputId": "88730ca6-825f-494b-999c-bbfffd37fb93",
        "colab": {
          "base_uri": "https://localhost:8080/"
        }
      },
      "outputs": [
        {
          "output_type": "stream",
          "name": "stdout",
          "text": [
            "['rouge', 'jaune', 'vert', 'violet', 'bleu']\n"
          ]
        }
      ],
      "source": [
        "carres = [] # An empty list\n",
        "for indx,value in enumerate(['rouge','jaune', 'vert', 'violet', 'bleu' ]):\n",
        "    carres.append(value)# Here you add (append) the elements one by one to the empty list\n",
        "\n",
        "print(carres)"
      ]
    }
  ],
  "metadata": {
    "colab": {
      "provenance": [],
      "include_colab_link": true
    },
    "kernelspec": {
      "display_name": "imports_TM",
      "language": "python",
      "name": "python3"
    },
    "language_info": {
      "name": "python",
      "version": "3.9.18"
    }
  },
  "nbformat": 4,
  "nbformat_minor": 0
}
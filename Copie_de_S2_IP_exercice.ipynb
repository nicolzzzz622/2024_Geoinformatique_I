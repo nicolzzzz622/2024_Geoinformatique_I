{
  "cells": [
    {
      "cell_type": "markdown",
      "metadata": {
        "id": "view-in-github",
        "colab_type": "text"
      },
      "source": [
        "<a href=\"https://colab.research.google.com/github/nicolzzzz622/2024_Geoinformatique_I/blob/main/Copie_de_S2_IP_exercice.ipynb\" target=\"_parent\"><img src=\"https://colab.research.google.com/assets/colab-badge.svg\" alt=\"Open In Colab\"/></a>"
      ]
    },
    {
      "cell_type": "markdown",
      "metadata": {
        "id": "ZXnjONpwCaJ5"
      },
      "source": [
        "# Exercice 2 - Structure de contrôle"
      ]
    },
    {
      "cell_type": "markdown",
      "metadata": {
        "id": "OyMIBjQrCaJ6"
      },
      "source": [
        "## Conditions if, else, elif"
      ]
    },
    {
      "cell_type": "markdown",
      "metadata": {
        "id": "caKuJ59zjW39"
      },
      "source": [
        "**1. Vérification de la parité**"
      ]
    },
    {
      "cell_type": "code",
      "execution_count": null,
      "metadata": {
        "id": "wkrwV1yvjW3-",
        "outputId": "82d7624a-eec9-4427-aa95-2a3b0ef00ffc",
        "colab": {
          "base_uri": "https://localhost:8080/"
        }
      },
      "outputs": [
        {
          "output_type": "stream",
          "name": "stdout",
          "text": [
            "Entrez un nombre entier 5\n",
            "Impaire\n"
          ]
        }
      ],
      "source": [
        "# Ecrivez votre code ici\n",
        "nombre = int(input(\"Entrez un nombre entier \")) #Entrez un nombre entier\n",
        "if nombre %2== 0:\n",
        "    print(\"Pair\")\n",
        "elif nombre %2 == 1:\n",
        "    print(\"Impaire\")\n",
        "else:\n",
        "  print(\"J'ai demandé un nombre entier!!,même si ce message tu le verras jamais je suis deçu\")"
      ]
    },
    {
      "cell_type": "markdown",
      "metadata": {
        "id": "b1goU-5bjW3_"
      },
      "source": [
        "**2. Comparaison de deux nombres**"
      ]
    },
    {
      "cell_type": "code",
      "execution_count": null,
      "metadata": {
        "id": "SkjaBcb-jW3_",
        "outputId": "12c598e7-5d15-401f-ad4d-39833a1aab2c",
        "colab": {
          "base_uri": "https://localhost:8080/"
        }
      },
      "outputs": [
        {
          "output_type": "stream",
          "name": "stdout",
          "text": [
            "Entrez un chiffre à virgule (Attention, notation anglaise: écrivez un point au lieu de la virgule) 5\n",
            "Entrez un autre chchiffre à virgule (Attention, notation anglaise: écrivez un point au lieu de la virgule) 4.6\n",
            "Le premier nombre est plus grand.\n"
          ]
        }
      ],
      "source": [
        "nombre1 = float(input(\"Entrez un chiffre à virgule (Attention, notation anglaise: écrivez un point au lieu de la virgule) \")) #Entrez un chiffre à virgule\n",
        "nombre2 = float(input(\"Entrez un autre chchiffre à virgule (Attention, notation anglaise: écrivez un point au lieu de la virgule) \")) #Entrez un deuxième chiffre à virgule\n",
        "\n",
        "if nombre1 > nombre2:\n",
        "    print(\"Le premier nombre est plus grand.\")\n",
        "elif nombre2 > nombre1:\n",
        "    print(\"Le deuxième nombre est plus grand.\")\n",
        "else:\n",
        "    print(\"Les deux nombres sont égaux\")"
      ]
    },
    {
      "cell_type": "markdown",
      "metadata": {
        "id": "gkNLNNSNjW3_"
      },
      "source": [
        "**3. Catégorisation d'âges**"
      ]
    },
    {
      "cell_type": "code",
      "execution_count": null,
      "metadata": {
        "id": "h1AnFjiKjW4A",
        "outputId": "0bb8bc2e-704e-49d8-b1c7-5d839ed914b5",
        "colab": {
          "base_uri": "https://localhost:8080/"
        }
      },
      "outputs": [
        {
          "output_type": "stream",
          "name": "stdout",
          "text": [
            "Bienvuenue au cinéma!, les tarifs des tickets sont: 11.- pour les mineurs de 18 ans, 19.- à partir du 18ème anniversaire. Entrez votre age. 19\n",
            "Seulement pour aujourd'hui, on a une promotion pour les snack: boisson à choix + popcorn pour 5.- supplémentaires au prix du ticket. Choisissez entre oui ou non. oui\n",
            "Le total de votre commande est de 24.-\n"
          ]
        }
      ],
      "source": [
        "age = int(input(\"Bienvuenue au cinéma!, les tarifs des tickets sont: 11.- pour les mineurs de 18 ans, 19.- à partir du 18ème anniversaire. Entrez votre age. \"))\n",
        "promotion = input(\"Seulement pour aujourd'hui, on a une promotion pour les snack: boisson à choix + popcorn pour 5.- supplémentaires au prix du ticket. Choisissez entre oui ou non. \")\n",
        "if age < 18 and promotion == \"non\":\n",
        "    print(\"Le total de votre commande est de 11.-\")\n",
        "elif age < 18 and promotion == \"oui\":\n",
        "    print(\"Le total de votre commande est de 16.-\")\n",
        "elif age >= 18 and promotion == \"non\":\n",
        "    print(\"Le total de votre commande est de 19.-\")\n",
        "elif age >= 18 and promotion == \"oui\":\n",
        "    print(\"Le total de votre commande est de 24.-\")\n",
        "else:\n",
        "    print(\"uh-oh, something went wrong, did you spell everything as it should?\")\n"
      ]
    },
    {
      "cell_type": "markdown",
      "metadata": {
        "id": "agjI6dl_CaJ7"
      },
      "source": [
        "## Boucle for et while"
      ]
    },
    {
      "cell_type": "markdown",
      "metadata": {
        "id": "jbGswyVvjW4A"
      },
      "source": [
        "**1. Ecrire une boucle `while` pour afficher les valeurs des classements d'une liste de lecture d'albums stockée dans la liste <code>PlayListRatings</code>. Si le score est inférieur à 6, on sort de la boucle. La liste <code>PlayListRatings</code> est donnée par : <code>PlayListRatings = [10, 9.5, 10, 8, 7.5, 5, 10, 10]</code>**"
      ]
    },
    {
      "cell_type": "code",
      "execution_count": null,
      "metadata": {
        "id": "ploHyFu2jW4A",
        "outputId": "f3705040-523f-4140-a173-aa4aaf4039c2",
        "colab": {
          "base_uri": "https://localhost:8080/"
        }
      },
      "outputs": [
        {
          "output_type": "stream",
          "name": "stdout",
          "text": [
            "10\n",
            "9.5\n",
            "10\n",
            "8\n",
            "7.5\n"
          ]
        }
      ],
      "source": [
        "# Ecrivez votre code ici\n",
        "PlayListRating = [10, 9.5, 10, 8, 7.5, 5, 10, 10]\n",
        "\n",
        "# Astuce : Utilisez l'indexation de la liste comme critère (longueur de votre liste)\n",
        "indx = 0\n",
        "while indx<len(PlayListRating):\n",
        "  if PlayListRating[indx]<6:\n",
        "    break\n",
        "  else:\n",
        "    print(PlayListRating[indx])\n",
        "  indx+=1"
      ]
    },
    {
      "cell_type": "markdown",
      "metadata": {
        "id": "WHXaD4_3jW4A"
      },
      "source": [
        "**2. Répétez ce que vous venez de faire, cette fois en utilisant une boucle `for`**."
      ]
    },
    {
      "cell_type": "code",
      "execution_count": null,
      "metadata": {
        "id": "CIgtC_4zjW4A",
        "outputId": "54fb4eef-172d-4d52-aef3-de3f2c0f0001",
        "colab": {
          "base_uri": "https://localhost:8080/"
        }
      },
      "outputs": [
        {
          "output_type": "stream",
          "name": "stdout",
          "text": [
            "10\n",
            "9.5\n",
            "10\n",
            "8\n",
            "7.5\n"
          ]
        }
      ],
      "source": [
        "for indx in range(len(PlayListRating)):\n",
        "  if PlayListRating[indx]<6:\n",
        "    break\n",
        "  else:\n",
        "    print(PlayListRating[indx])"
      ]
    },
    {
      "cell_type": "markdown",
      "metadata": {
        "id": "VZQhdaf5jW4B"
      },
      "source": [
        "**3. Ecrivez une boucle `for` qui imprime (affiche) la liste suivante : <code>carres=['rouge', 'jaune', 'vert', 'violet', 'bleu']</code>**"
      ]
    },
    {
      "cell_type": "code",
      "execution_count": null,
      "metadata": {
        "id": "kh8TmInPjW4B",
        "outputId": "1771f4b9-1800-4f43-900b-e79843604462",
        "colab": {
          "base_uri": "https://localhost:8080/"
        }
      },
      "outputs": [
        {
          "output_type": "stream",
          "name": "stdout",
          "text": [
            "['Rouge', 'Jaune', 'Vert', 'Violet', 'Bleu']\n"
          ]
        }
      ],
      "source": [
        "carres = [] # An empty list\n",
        "for indx, value in enumerate([\"Rouge\", \"Jaune\", \"Vert\", \"Violet\", \"Bleu\"]):\n",
        "  carres.append(value) # Here you add (append) the elements one by one to the empty list\n",
        "\n",
        "print(carres)"
      ]
    },
    {
      "cell_type": "code",
      "source": [
        "##calcolatore del salario\n",
        "wallet = int(input(\"Prego, inserire la vostra fortuna\"))\n",
        "while wallet >= 1600:\n",
        "    salary = int(input(\"quanto hai guadagnato questo mese a lavoro?\"))\n",
        "    wallet += salary\n",
        "    living_cost = 1000\n",
        "    wallet -= living_cost\n",
        "    print(\"la tua fortuna ammonta a\", wallet, \"franchi\")\n",
        "    if  wallet < 1600:\n",
        "      print(\"la tua fortuna è sotto la soglia del minimo per vivere, cerca di lavorare di più il prossimo mese...\")"
      ],
      "metadata": {
        "id": "qpXurlI-hAS1",
        "outputId": "1cae1046-7c1c-4971-d434-608d9f352f3d",
        "colab": {
          "base_uri": "https://localhost:8080/"
        }
      },
      "execution_count": null,
      "outputs": [
        {
          "output_type": "stream",
          "name": "stdout",
          "text": [
            "Prego, inserire la vostra fortuna2000\n",
            "quanto hai guadagnato questo mese a lavoro?200\n",
            "la tua fortuna ammonta a 1200 franchi\n",
            "la tua fortuna è sotto la soglia del minimo per vivere, cerca di lavorare di più il prossimo mese...\n"
          ]
        }
      ]
    },
    {
      "cell_type": "code",
      "source": [
        "print(\"welcome to the swiss Confederation site: please chose your favourite language between Deutsch, Français, Italiano, Romansh, English. Mind the capital letters please.\")\n",
        "language = str(input())\n",
        "if language == \"Deutsch\":\n",
        "  print(\"Sie haben die deutsche spräche gewählt, Willkommen!\")\n",
        "  city = str(input(\"in welcher Stadt leben Sie? \"))\n",
        "  print(\"Sie leben in \" +city+ \". Wir wünchen Ihnen ein gutes Leben in\", city)\n",
        "elif language == \"Français\":\n",
        "  print(\"Vous avez choisie la langue française, Bienvuene!\")\n",
        "  city = str(input(\"Dans quelle ville habitez-vous? \"))\n",
        "  print(\"Vous habitez à \" +city+ \". On vous souhaite une belle vie à\", city)\n",
        "elif language == \"Italiano\":\n",
        "  print(\"Lei ha scelto di continuare la conversazione in italiano, benvenuto!\")\n",
        "  city =str(input(\"Dove abita? \"))\n",
        "  print(\"Lei abita a \" +city+ \". Le auguriamo di avere una buona vita a\", city)\n",
        "elif language == \"Romansh\":\n",
        "  print(\"Ti has piglié la lieunga romansha, bainvegni!\")\n",
        "  city = str(input(\"En quale burg ti stas? \"))\n",
        "  print(\"Ti stas en il burg da \" +city+ \". La confederaziun ti ghiavischa in bel dì en\", city)\n",
        "elif language == \"English\":\n",
        "  print(\"You have chosen the english language, Welcome!\")\n",
        "  city = str(input(\"Where do you live? \"))\n",
        "  print(\"You live in \" +city+ \". We wish you a nice staying in\", city)\n",
        "else:\n",
        "  print(\"I think you misspelled the language, retry by relaunching the site again!\")"
      ],
      "metadata": {
        "colab": {
          "base_uri": "https://localhost:8080/"
        },
        "id": "oc5ZMEAtjEnw",
        "outputId": "8cb8ec8e-7058-4e62-c63a-be664a8f7fb3"
      },
      "execution_count": 2,
      "outputs": [
        {
          "output_type": "stream",
          "name": "stdout",
          "text": [
            "welcome to the swiss Confederation site: please chose your favourite language between Deutsch, Français, Italiano, Romansh, English. Mind the capital letters please.\n",
            "Italiano\n",
            "Lei ha scelto di continuare la conversazione in italiano, benvenuto!\n",
            "Dove abita? Renens VD\n",
            "Lei abita a Renens VD. Le auguriamo di avere una buona vita a Renens VD\n"
          ]
        }
      ]
    }
  ],
  "metadata": {
    "colab": {
      "provenance": [],
      "include_colab_link": true
    },
    "kernelspec": {
      "display_name": "imports_TM",
      "language": "python",
      "name": "python3"
    },
    "language_info": {
      "name": "python",
      "version": "3.9.18"
    }
  },
  "nbformat": 4,
  "nbformat_minor": 0
}